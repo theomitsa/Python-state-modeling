{
 "cells": [
  {
   "cell_type": "code",
   "execution_count": null,
   "id": "047f1122",
   "metadata": {},
   "outputs": [],
   "source": [
    "from datetime import datetime as DT\n",
    "from statemachine import StateMachine, State\n",
    "import random"
   ]
  },
  {
   "cell_type": "markdown",
   "id": "86d1fe5e",
   "metadata": {},
   "source": [
    "STATE PRESERVATION METHOD 1: Empty list as default function argument"
   ]
  },
  {
   "cell_type": "code",
   "execution_count": null,
   "id": "d6ea2cde",
   "metadata": {},
   "outputs": [],
   "source": [
    "def roomsWithPet(roomNumber,lr=[]):\n",
    "    lr.append(roomNumber)\n",
    "    print(f\"The rooms with pets are:  {lr}\")\n",
    "    return lr"
   ]
  },
  {
   "cell_type": "code",
   "execution_count": null,
   "id": "f8e8a56e",
   "metadata": {},
   "outputs": [],
   "source": [
    "L=roomsWithPet(300)\n",
    "L=roomsWithPet(101)\n",
    "L=roomsWithPet(200)"
   ]
  },
  {
   "cell_type": "code",
   "execution_count": null,
   "id": "be406ab4",
   "metadata": {},
   "outputs": [],
   "source": [
    "def checkOut(roomN,rate,nights,extra):\n",
    "    amountOwned=rate*nights+extra\n",
    "    return amountOwned"
   ]
  },
  {
   "cell_type": "markdown",
   "id": "ad0d6500",
   "metadata": {},
   "source": [
    "STATE PRESERVATION METHOD 2: Closed Functions"
   ]
  },
  {
   "cell_type": "code",
   "execution_count": null,
   "id": "5292a529",
   "metadata": {},
   "outputs": [],
   "source": [
    "def balanceOwned(roomN,rate,nights):\n",
    "    def increaseByMeals(extra):\n",
    "        amountOwned=rate*nights+extra\n",
    "        print(f\"Dear Guest of Room {roomN}, you have\", \n",
    "        \"a due balance:\", \"${:.2f}\".format(amountOwned))\n",
    "        return amountOwned\n",
    "    return increaseByMeals\n",
    "ba = balanceOwned(201,400,3)\n",
    "ba(200)\n",
    "ba(150)\n",
    "ba(180)\n",
    "ba(190)"
   ]
  },
  {
   "cell_type": "markdown",
   "id": "89c46e51",
   "metadata": {},
   "source": [
    "STATE PRESERVATION METHOD 3: Iterators"
   ]
  },
  {
   "cell_type": "code",
   "execution_count": null,
   "id": "e12c70fb",
   "metadata": {
    "scrolled": true
   },
   "outputs": [],
   "source": [
    "D = {\"123\":\"Y\",\"111\":\"PT\",\"313\":\"Y\",\"112\":\"Y\",\"201\":\"PT\"}\n",
    "ff = filter(lambda e:e[1]==\"Y\", D.items())\n",
    "print(next(ff))\n",
    "print(next(ff))"
   ]
  },
  {
   "cell_type": "markdown",
   "id": "729b3fc1",
   "metadata": {},
   "source": [
    "STATE PRESERVATION METHODS 4 and 5: Class variables and State Machine"
   ]
  },
  {
   "cell_type": "code",
   "execution_count": null,
   "id": "b0742718",
   "metadata": {},
   "outputs": [],
   "source": [
    "class Sauna(StateMachine):\n",
    "    #Class variable that counts the number of class instances\n",
    "    inst_counter=0\n",
    "    def __init__(self):\n",
    "       super().__init__()\n",
    "       self.entryTimes=[]\n",
    "       self.guestcount=0\n",
    "       self.__roomnumbers=[]\n",
    "       Sauna.inst_counter+=1\n",
    "    \n",
    "    #States\n",
    "    empty = State('Empty', initial=True)\n",
    "    space_avail = State('OneSpaceOccupied')\n",
    "    full = State('NoSpace')\n",
    "    \n",
    "    #Transitions\n",
    "    occupied = empty.to(space_avail)\n",
    "    guestleft = space_avail.to(empty)\n",
    "    nospace = space_avail.to(full)\n",
    "    spacefortwo = full.to(empty)\n",
    "    nomorefull = full.to(space_avail)\n",
    "    \n",
    "   \n",
    "    #Actions on Transitions\n",
    "    def on_enter_empty(self):\n",
    "        print(\"Welcome to the Sauna Room!\")\n",
    "        \n",
    "    def on_enter_space_avail(self):\n",
    "        print(\"One sauna seat available!\")\n",
    "        currentT = DT.now()\n",
    "        self.__roomnumbers.append(random.randint(1,30))\n",
    "        self.entryTimes.append(currentT.strftime(\"%Y-%m-%d %H:%M:%S\"))\n",
    "        self.guestcount+=1\n",
    "        \n",
    "    def on_enter_full(self):\n",
    "        print(\"Sorry, the Sauna Room is full!\")\n",
    "        self.__roomnumbers.append(random.randint(1, 30))\n",
    "        currentT = DT.now()\n",
    "        self.entryTimes.append(currentT.strftime(\"%Y-%m-%d %H:%M:%S\"))\n",
    "        self.guestcount+=1\n",
    "        \n",
    "    def on_enter_full(self):\n",
    "        print(\"Sorry, the Sauna Room is full!\")\n",
    "        self.__roomnumbers.append(random.randint(1, 30))\n",
    "        currentT = DT.now()\n",
    "        self.entryTimes.append(currentT.strftime(\"%Y-%m-%d %H:%M:%S\"))\n",
    "        self.guestcount+=1\n",
    "        \n",
    "    def getEntryTimes(self):\n",
    "        return self.entryTimes\n",
    "    \n",
    "    def getGuestCount(self):\n",
    "        return self.guestcount\n",
    "    \n",
    "    @classmethod\n",
    "    def getSaunaCount(cls):\n",
    "        return Sauna.inst_counter\n",
    "          \n",
    "    @property\n",
    "    def getroomnumbers(self):\n",
    "        return self.__roomnumbers\n",
    "    \n",
    "    \n",
    "    cycle= occupied | nospace | spacefortwo"
   ]
  },
  {
   "cell_type": "code",
   "execution_count": null,
   "id": "cb020b2b",
   "metadata": {},
   "outputs": [],
   "source": [
    "ArtemisSauna1 = Sauna()"
   ]
  },
  {
   "cell_type": "code",
   "execution_count": null,
   "id": "c9482eb0",
   "metadata": {},
   "outputs": [],
   "source": [
    "ArtemisSauna1.cycle()\n",
    "ArtemisSauna1.cycle()\n",
    "ArtemisSauna1.cycle()"
   ]
  },
  {
   "cell_type": "code",
   "execution_count": null,
   "id": "b8e1aac1",
   "metadata": {},
   "outputs": [],
   "source": [
    "L=ArtemisSauna1.getEntryTimes()\n",
    "print(L)\n",
    "print(ArtemisSauna1.current_state)\n",
    "c=print(f\"The number of guests is: {ArtemisSauna1.getGuestCount()}\")\n",
    "ic=print(f\"The number of used saunas is: {ArtemisSauna1.getSaunaCount()}\")\n",
    "L3=ArtemisSauna1.getroomnumbers\n",
    "print(L3)"
   ]
  },
  {
   "cell_type": "code",
   "execution_count": null,
   "id": "8309280b",
   "metadata": {},
   "outputs": [],
   "source": [
    "ArtemisSauna2 = Sauna()\n",
    "ArtemisSauna2.cycle()\n",
    "ArtemisSauna2.cycle()\n",
    "ArtemisSauna2.cycle()"
   ]
  },
  {
   "cell_type": "code",
   "execution_count": null,
   "id": "280f23d4",
   "metadata": {},
   "outputs": [],
   "source": [
    "L=ArtemisSauna2.getEntryTimes()\n",
    "print(L)\n",
    "print(ArtemisSauna2.current_state)\n",
    "c=print(f\"The number of guests is: {ArtemisSauna2.getGuestCount()}\")\n",
    "ic=print(f\"The number of used saunas is: {ArtemisSauna2.getSaunaCount()}\")\n",
    "\n",
    "L3=ArtemisSauna2.getroomnumbers\n",
    "print(L3)"
   ]
  }
 ],
 "metadata": {
  "kernelspec": {
   "display_name": "Python 3",
   "language": "python",
   "name": "python3"
  },
  "language_info": {
   "codemirror_mode": {
    "name": "ipython",
    "version": 3
   },
   "file_extension": ".py",
   "mimetype": "text/x-python",
   "name": "python",
   "nbconvert_exporter": "python",
   "pygments_lexer": "ipython3",
   "version": "3.8.8"
  }
 },
 "nbformat": 4,
 "nbformat_minor": 5
}
